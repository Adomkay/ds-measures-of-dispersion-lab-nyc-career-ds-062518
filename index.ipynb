{
 "cells": [
  {
   "cell_type": "markdown",
   "metadata": {},
   "source": [
    "# Standard Deviation Lab\n",
    "\n",
    "## Problem Description\n",
    "\n",
    "In this lab, we'll learn to calculate standard deviation and variance, and gain intuition for what it means and how it can be useful.\n",
    "\n",
    "\n",
    "## Objective\n",
    "* Calculate Standard Deviation of a sample or population\n",
    "* Calculate the Variance of a sample or population\n",
    "* Explore the relationship between Standard Deviation and Variance\n",
    "\n"
   ]
  },
  {
   "cell_type": "code",
   "execution_count": null,
   "metadata": {},
   "outputs": [],
   "source": []
  }
 ],
 "metadata": {
  "kernelspec": {
   "display_name": "Python 3",
   "language": "python",
   "name": "python3"
  },
  "language_info": {
   "codemirror_mode": {
    "name": "ipython",
    "version": 3
   },
   "file_extension": ".py",
   "mimetype": "text/x-python",
   "name": "python",
   "nbconvert_exporter": "python",
   "pygments_lexer": "ipython3",
   "version": "3.6.5"
  }
 },
 "nbformat": 4,
 "nbformat_minor": 2
}
