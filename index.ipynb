{
 "cells": [
  {
   "cell_type": "markdown",
   "metadata": {},
   "source": [
    "# Standard Deviation Lab\n",
    "\n",
    "## Problem Description\n",
    "\n",
    "In this lab, we'll learn to calculate standard deviation and variance, and gain intuition for what it means and how it can be useful.\n",
    "\n",
    "\n",
    "## Objective\n",
    "* Calculate Standard Deviation of a sample or population\n",
    "* Calculate the Variance of a sample or population\n",
    "* Explore the relationship between Standard Deviation and Variance\n",
    "\n",
    "\n",
    "### Measures of Dispersion\n",
    "\n",
    "In previous labs, we learned about _Measures of Center_ such as **_mean_** and **_median_**.  These metrics help give us a general understanding of where the values lie in the range of our data. However, they don't tell us the whole picture, and can often be misleading.  To truly understand our data, we also need _Measures of Dispersion_--namely, **_Standard Deviation_** and **_Variance_**.  These measures tell us how tightly or loosely clustered around the center our data is, and generally act as a measure of how \"noisy\" our dataset is or isn't.\n",
    "\n",
    "In this lab, we'll manually calculate standard deviation and variance and explore the relationship between them, as well as their relationship with other summary statistics such as the mean. \n",
    "\n",
    "### Calculating Variance\n",
    "\n",
    "In the cell below, write a function that takes an array of numbers as input and returns the Variance of the sample as output. \n",
    "\n",
    "Recall that the formula for calculating variance is:\n",
    "\n",
    "<center><img src='variance-formula.jpg'></center>\n",
    "\n",
    "Where:\n",
    "\n",
    "$\\sigma^2 = Variance$\n",
    "\n",
    "$N = Size\\ of\\ Sample$\n",
    "\n",
    "$\\bar{x} = Sample\\ Mean$"
   ]
  },
  {
   "cell_type": "code",
   "execution_count": 1,
   "metadata": {},
   "outputs": [],
   "source": [
    "import numpy as np\n",
    "\n",
    "def variance(sample):\n",
    "    # First, calculate the sample mean\n",
    "    N = len(sample) - 1\n",
    "    total = sum(sample)\n",
    "    sample_mean = total/N\n",
    "    \n",
    "    # Now, subtract the sample mean from each point and square the result. \n",
    "    val_minus_mu_accumulator = 0\n",
    "    for i in sample:\n",
    "        val_minus_mu_total += (i - sample_mean)**2\n",
    "    \n",
    "    # Divde the total by the number of items in the sample  \n",
    "    variance =val_minus_mu_accumulator / N\n",
    "    \n",
    "    return variance"
   ]
  },
  {
   "cell_type": "markdown",
   "metadata": {},
   "source": [
    "### Calculating Standard Deviation\n",
    "\n",
    "In the cell below, write a function that takes an array of numbers as input and returns the standard deviation of that sample as output.  \n",
    "\n",
    "Recall that the formula for Standard Deviation is:\n",
    "\n",
    "<center><img src='standard-deviation-formula.gif'></center>\n",
    "\n",
    "Where:\n",
    "\n",
    "$\\sigma = Standard\\ Deviation$\n",
    "\n",
    "$\\mu = Sample\\ Mean$\n",
    "\n",
    "$N = Size\\ of\\ Sample$\n",
    "\n",
    "**_Hint_**: How are the these formulas related? Can knowing one help you calculate the other?\n",
    "\n",
    "For a refresher on how to calculate the standard deviation, take a look at this [tutorial](https://www.mathsisfun.com/data/standard-deviation-formulas.html). For the function below, only use `numpy` to calculate square roots as needed. Avoid using the library's `std` function to calculate standard deviation at this step--calculate everything as needed using only basic python.  "
   ]
  },
  {
   "cell_type": "code",
   "execution_count": 2,
   "metadata": {},
   "outputs": [],
   "source": [
    "def std_dev(sample):\n",
    "    return np.sqrt(variance)"
   ]
  },
  {
   "cell_type": "markdown",
   "metadata": {},
   "source": [
    "### Case Study: Life Expectancy\n",
    "\n",
    "People often use the Mean as a summary statistic to encapsulate all relevant information about a topic.  However, the mean is just a statistic--it deserves no special relevance, and can be misleading in many cases.  An example where this can be misleading is life expectancy in the past.  \n",
    "\n",
    "Up until the 18th century, the mean life expectancy in most countries was between 30 and 40.  However, the number of people that actually died between the ages of 30 and 40 was actually quite low.  This average person that survived past childhood could expect to live well into the 50s, 60s, or even 70s.  Why, then, is the average life expectancy around 35?\n",
    "\n",
    "In the cells below, read in the data stored in `ages.csv`.  Calculate the mean and standard deviation.  Then, use `matplotlib` to create a histogram of the data with 8 bins.  \n",
    "\n",
    "When examining the data, consider the following questions:\n",
    "\n",
    "1.  Why did so few people actually die at the mean life expectancy age? Is the mean life expectancy a good metric or not? Why?\n",
    "1.  What does a high standard deviation tell us about the mean?  \n",
    "\n",
    "(Author's Note: Although the ranges in this case study are generally true to historical record, the data in `ages.csv` was made up for this problem.)"
   ]
  },
  {
   "cell_type": "code",
   "execution_count": 15,
   "metadata": {},
   "outputs": [
    {
     "data": {
      "text/plain": [
       "27.172259460501756"
      ]
     },
     "execution_count": 15,
     "metadata": {},
     "output_type": "execute_result"
    }
   ],
   "source": [
    "ages = pd.read_csv('ages.csv', squeeze=True)"
   ]
  },
  {
   "cell_type": "code",
   "execution_count": 17,
   "metadata": {},
   "outputs": [
    {
     "name": "stdout",
     "output_type": "stream",
     "text": [
      "Mean Life Expectancy: 38.292929292929294\n",
      "Standard Deviation: 27.034677515904274\n"
     ]
    },
    {
     "data": {
      "image/png": "[encoded data removed]",
      "text/plain": [
       "<matplotlib.figure.Figure at 0x24f16907a20>"
      ]
     },
     "metadata": {},
     "output_type": "display_data"
    }
   ],
   "source": [
    "import matplotlib.pyplot as plt\n",
    "%matplotlib inline\n",
    "plt.hist(ages, bins=8)\n",
    "print('Mean Life Expectancy: {}'.format(np.mean(ages)))\n",
    "print('Standard Deviation: {}'.format(np.std(ages)))"
   ]
  },
  {
   "cell_type": "markdown",
   "metadata": {},
   "source": [
    "### Conclusion\n",
    "\n",
    "In this lab, we learned:\n",
    "* How to calculate the variance of a sample\n",
    "* How to calculate the standard deviation of a sample\n",
    "* The relationship between standard deviation and variance\n",
    "* How we can use measures of dispersion to inform our  understanding of measures of center"
   ]
  }
 ],
 "metadata": {
  "kernelspec": {
   "display_name": "Python 3",
   "language": "python",
   "name": "python3"
  },
  "language_info": {
   "codemirror_mode": {
    "name": "ipython",
    "version": 3
   },
   "file_extension": ".py",
   "mimetype": "text/x-python",
   "name": "python",
   "nbconvert_exporter": "python",
   "pygments_lexer": "ipython3",
   "version": "3.6.5"
  }
 },
 "nbformat": 4,
 "nbformat_minor": 2
}
